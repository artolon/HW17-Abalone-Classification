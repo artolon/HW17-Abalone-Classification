{
 "cells": [
  {
   "cell_type": "markdown",
   "id": "130698db",
   "metadata": {},
   "source": [
    "# Homework 17 - Abalone Classification"
   ]
  },
  {
   "cell_type": "markdown",
   "id": "1aee34ae",
   "metadata": {},
   "source": [
    "**1.\tWhat is inductive reasoning? Deductive reasoning? Give an example of each, different from the examples given in class.** "
   ]
  },
  {
   "cell_type": "markdown",
   "id": "2f2353a7",
   "metadata": {},
   "source": []
  },
  {
   "cell_type": "markdown",
   "id": "af1b9180",
   "metadata": {},
   "source": [
    "**Using ONE of the following sources, complete the questions for only that source.** \n",
    "- Credit approval: https://archive.ics.uci.edu/ml/datasets/Statlog+%28Australian+Credit+Approval%29\n",
    "- Cardiac Arrhythmia: https://archive.ics.uci.edu/ml/datasets/Arrhythmia \n",
    "- Abalone age: https://archive.ics.uci.edu/ml/datasets/Abalone - this one is a bit harder since it’s not binary like the others, but if you really want to master these concepts, you should pick this one. Use RMSE as a performance metric if you do this as regression. You should target a value of under 3.  \n",
    "\n",
    "*Note: at least one of your models should have the most relevant performance metric above .90 . All performance metrics should be above .75 . You will partially be graded on model performance.*\n"
   ]
  },
  {
   "cell_type": "markdown",
   "id": "adeb2625",
   "metadata": {},
   "source": [
    "**2.\tPreprocess your dataset. Indicate which steps worked and which didn’t. Include your thoughts on why certain steps worked and certain steps didn’t.** "
   ]
  },
  {
   "cell_type": "code",
   "execution_count": 98,
   "id": "7f95a197",
   "metadata": {},
   "outputs": [
    {
     "name": "stdout",
     "output_type": "stream",
     "text": [
      "4177\n"
     ]
    },
    {
     "data": {
      "text/html": [
       "<div>\n",
       "<style scoped>\n",
       "    .dataframe tbody tr th:only-of-type {\n",
       "        vertical-align: middle;\n",
       "    }\n",
       "\n",
       "    .dataframe tbody tr th {\n",
       "        vertical-align: top;\n",
       "    }\n",
       "\n",
       "    .dataframe thead th {\n",
       "        text-align: right;\n",
       "    }\n",
       "</style>\n",
       "<table border=\"1\" class=\"dataframe\">\n",
       "  <thead>\n",
       "    <tr style=\"text-align: right;\">\n",
       "      <th></th>\n",
       "      <th>Sex</th>\n",
       "      <th>Length</th>\n",
       "      <th>Diameter</th>\n",
       "      <th>Height</th>\n",
       "      <th>Whole weight</th>\n",
       "      <th>Shucked weight</th>\n",
       "      <th>Viscera weight</th>\n",
       "      <th>Shell weight</th>\n",
       "      <th>Rings</th>\n",
       "    </tr>\n",
       "  </thead>\n",
       "  <tbody>\n",
       "    <tr>\n",
       "      <th>738</th>\n",
       "      <td>M</td>\n",
       "      <td>0.535</td>\n",
       "      <td>0.410</td>\n",
       "      <td>0.135</td>\n",
       "      <td>0.8620</td>\n",
       "      <td>0.2855</td>\n",
       "      <td>0.1525</td>\n",
       "      <td>0.3200</td>\n",
       "      <td>14</td>\n",
       "    </tr>\n",
       "    <tr>\n",
       "      <th>1480</th>\n",
       "      <td>F</td>\n",
       "      <td>0.580</td>\n",
       "      <td>0.460</td>\n",
       "      <td>0.175</td>\n",
       "      <td>1.1650</td>\n",
       "      <td>0.6500</td>\n",
       "      <td>0.2205</td>\n",
       "      <td>0.3055</td>\n",
       "      <td>9</td>\n",
       "    </tr>\n",
       "    <tr>\n",
       "      <th>2196</th>\n",
       "      <td>I</td>\n",
       "      <td>0.370</td>\n",
       "      <td>0.280</td>\n",
       "      <td>0.090</td>\n",
       "      <td>0.2330</td>\n",
       "      <td>0.0905</td>\n",
       "      <td>0.0545</td>\n",
       "      <td>0.0700</td>\n",
       "      <td>11</td>\n",
       "    </tr>\n",
       "    <tr>\n",
       "      <th>3953</th>\n",
       "      <td>I</td>\n",
       "      <td>0.465</td>\n",
       "      <td>0.355</td>\n",
       "      <td>0.120</td>\n",
       "      <td>0.5805</td>\n",
       "      <td>0.2550</td>\n",
       "      <td>0.0915</td>\n",
       "      <td>0.1840</td>\n",
       "      <td>8</td>\n",
       "    </tr>\n",
       "    <tr>\n",
       "      <th>955</th>\n",
       "      <td>M</td>\n",
       "      <td>0.495</td>\n",
       "      <td>0.395</td>\n",
       "      <td>0.135</td>\n",
       "      <td>0.6335</td>\n",
       "      <td>0.3035</td>\n",
       "      <td>0.1295</td>\n",
       "      <td>0.1495</td>\n",
       "      <td>8</td>\n",
       "    </tr>\n",
       "  </tbody>\n",
       "</table>\n",
       "</div>"
      ],
      "text/plain": [
       "     Sex  Length  Diameter  Height  Whole weight  Shucked weight  \\\n",
       "738    M   0.535     0.410   0.135        0.8620          0.2855   \n",
       "1480   F   0.580     0.460   0.175        1.1650          0.6500   \n",
       "2196   I   0.370     0.280   0.090        0.2330          0.0905   \n",
       "3953   I   0.465     0.355   0.120        0.5805          0.2550   \n",
       "955    M   0.495     0.395   0.135        0.6335          0.3035   \n",
       "\n",
       "      Viscera weight  Shell weight  Rings  \n",
       "738           0.1525        0.3200     14  \n",
       "1480          0.2205        0.3055      9  \n",
       "2196          0.0545        0.0700     11  \n",
       "3953          0.0915        0.1840      8  \n",
       "955           0.1295        0.1495      8  "
      ]
     },
     "execution_count": 98,
     "metadata": {},
     "output_type": "execute_result"
    }
   ],
   "source": [
    "import numpy as np\n",
    "import pandas as pd\n",
    "\n",
    "# Import the file\n",
    "abalone = pd.read_csv('abalone.csv')\n",
    "\n",
    "# Original data length\n",
    "print(len(abalone.index))\n",
    "\n",
    "# View file\n",
    "abalone.sample(5)"
   ]
  },
  {
   "cell_type": "code",
   "execution_count": 11,
   "id": "4ff1baff",
   "metadata": {},
   "outputs": [
    {
     "data": {
      "text/plain": [
       "Sex                object\n",
       "Length            float64\n",
       "Diameter          float64\n",
       "Height            float64\n",
       "Whole weight      float64\n",
       "Shucked weight    float64\n",
       "Viscera weight    float64\n",
       "Shell weight      float64\n",
       "Rings               int64\n",
       "dtype: object"
      ]
     },
     "execution_count": 11,
     "metadata": {},
     "output_type": "execute_result"
    }
   ],
   "source": [
    "# Check data types\n",
    "abalone.dtypes"
   ]
  },
  {
   "cell_type": "code",
   "execution_count": 8,
   "id": "f4e92599",
   "metadata": {},
   "outputs": [
    {
     "data": {
      "text/plain": [
       "Sex               0\n",
       "Length            0\n",
       "Diameter          0\n",
       "Height            0\n",
       "Whole weight      0\n",
       "Shucked weight    0\n",
       "Viscera weight    0\n",
       "Shell weight      0\n",
       "Rings             0\n",
       "dtype: int64"
      ]
     },
     "execution_count": 8,
     "metadata": {},
     "output_type": "execute_result"
    }
   ],
   "source": [
    "# Confirm how many null values there are\n",
    "abalone.isnull().sum()\n",
    "\n",
    "        # No missing data to handle"
   ]
  },
  {
   "cell_type": "code",
   "execution_count": 4,
   "id": "1bdf03e5",
   "metadata": {},
   "outputs": [
    {
     "data": {
      "text/plain": [
       "array(['M', 'F', 'I'], dtype=object)"
      ]
     },
     "execution_count": 4,
     "metadata": {},
     "output_type": "execute_result"
    }
   ],
   "source": [
    "# View the unique sex categories\n",
    "abalone['Sex'].unique()"
   ]
  },
  {
   "cell_type": "code",
   "execution_count": 99,
   "id": "c44d08cd",
   "metadata": {},
   "outputs": [
    {
     "data": {
      "text/html": [
       "<div>\n",
       "<style scoped>\n",
       "    .dataframe tbody tr th:only-of-type {\n",
       "        vertical-align: middle;\n",
       "    }\n",
       "\n",
       "    .dataframe tbody tr th {\n",
       "        vertical-align: top;\n",
       "    }\n",
       "\n",
       "    .dataframe thead th {\n",
       "        text-align: right;\n",
       "    }\n",
       "</style>\n",
       "<table border=\"1\" class=\"dataframe\">\n",
       "  <thead>\n",
       "    <tr style=\"text-align: right;\">\n",
       "      <th></th>\n",
       "      <th>F</th>\n",
       "      <th>I</th>\n",
       "      <th>M</th>\n",
       "    </tr>\n",
       "  </thead>\n",
       "  <tbody>\n",
       "    <tr>\n",
       "      <th>0</th>\n",
       "      <td>0</td>\n",
       "      <td>0</td>\n",
       "      <td>1</td>\n",
       "    </tr>\n",
       "    <tr>\n",
       "      <th>1</th>\n",
       "      <td>0</td>\n",
       "      <td>0</td>\n",
       "      <td>1</td>\n",
       "    </tr>\n",
       "    <tr>\n",
       "      <th>2</th>\n",
       "      <td>1</td>\n",
       "      <td>0</td>\n",
       "      <td>0</td>\n",
       "    </tr>\n",
       "    <tr>\n",
       "      <th>3</th>\n",
       "      <td>0</td>\n",
       "      <td>0</td>\n",
       "      <td>1</td>\n",
       "    </tr>\n",
       "    <tr>\n",
       "      <th>4</th>\n",
       "      <td>0</td>\n",
       "      <td>1</td>\n",
       "      <td>0</td>\n",
       "    </tr>\n",
       "  </tbody>\n",
       "</table>\n",
       "</div>"
      ],
      "text/plain": [
       "   F  I  M\n",
       "0  0  0  1\n",
       "1  0  0  1\n",
       "2  1  0  0\n",
       "3  0  0  1\n",
       "4  0  1  0"
      ]
     },
     "execution_count": 99,
     "metadata": {},
     "output_type": "execute_result"
    }
   ],
   "source": [
    "# Encode the sex variables into binary\n",
    "sex_enc = pd.get_dummies(abalone['Sex'])\n",
    "sex_enc.head()"
   ]
  },
  {
   "cell_type": "code",
   "execution_count": 100,
   "id": "c522e02c",
   "metadata": {},
   "outputs": [
    {
     "data": {
      "text/html": [
       "<div>\n",
       "<style scoped>\n",
       "    .dataframe tbody tr th:only-of-type {\n",
       "        vertical-align: middle;\n",
       "    }\n",
       "\n",
       "    .dataframe tbody tr th {\n",
       "        vertical-align: top;\n",
       "    }\n",
       "\n",
       "    .dataframe thead th {\n",
       "        text-align: right;\n",
       "    }\n",
       "</style>\n",
       "<table border=\"1\" class=\"dataframe\">\n",
       "  <thead>\n",
       "    <tr style=\"text-align: right;\">\n",
       "      <th></th>\n",
       "      <th>Sex</th>\n",
       "      <th>Length</th>\n",
       "      <th>Diameter</th>\n",
       "      <th>Height</th>\n",
       "      <th>Whole weight</th>\n",
       "      <th>Shucked weight</th>\n",
       "      <th>Viscera weight</th>\n",
       "      <th>Shell weight</th>\n",
       "      <th>Rings</th>\n",
       "      <th>F</th>\n",
       "      <th>I</th>\n",
       "      <th>M</th>\n",
       "    </tr>\n",
       "  </thead>\n",
       "  <tbody>\n",
       "    <tr>\n",
       "      <th>0</th>\n",
       "      <td>M</td>\n",
       "      <td>0.455</td>\n",
       "      <td>0.365</td>\n",
       "      <td>0.095</td>\n",
       "      <td>0.5140</td>\n",
       "      <td>0.2245</td>\n",
       "      <td>0.1010</td>\n",
       "      <td>0.150</td>\n",
       "      <td>15</td>\n",
       "      <td>0</td>\n",
       "      <td>0</td>\n",
       "      <td>1</td>\n",
       "    </tr>\n",
       "    <tr>\n",
       "      <th>1</th>\n",
       "      <td>M</td>\n",
       "      <td>0.350</td>\n",
       "      <td>0.265</td>\n",
       "      <td>0.090</td>\n",
       "      <td>0.2255</td>\n",
       "      <td>0.0995</td>\n",
       "      <td>0.0485</td>\n",
       "      <td>0.070</td>\n",
       "      <td>7</td>\n",
       "      <td>0</td>\n",
       "      <td>0</td>\n",
       "      <td>1</td>\n",
       "    </tr>\n",
       "    <tr>\n",
       "      <th>2</th>\n",
       "      <td>F</td>\n",
       "      <td>0.530</td>\n",
       "      <td>0.420</td>\n",
       "      <td>0.135</td>\n",
       "      <td>0.6770</td>\n",
       "      <td>0.2565</td>\n",
       "      <td>0.1415</td>\n",
       "      <td>0.210</td>\n",
       "      <td>9</td>\n",
       "      <td>1</td>\n",
       "      <td>0</td>\n",
       "      <td>0</td>\n",
       "    </tr>\n",
       "    <tr>\n",
       "      <th>3</th>\n",
       "      <td>M</td>\n",
       "      <td>0.440</td>\n",
       "      <td>0.365</td>\n",
       "      <td>0.125</td>\n",
       "      <td>0.5160</td>\n",
       "      <td>0.2155</td>\n",
       "      <td>0.1140</td>\n",
       "      <td>0.155</td>\n",
       "      <td>10</td>\n",
       "      <td>0</td>\n",
       "      <td>0</td>\n",
       "      <td>1</td>\n",
       "    </tr>\n",
       "    <tr>\n",
       "      <th>4</th>\n",
       "      <td>I</td>\n",
       "      <td>0.330</td>\n",
       "      <td>0.255</td>\n",
       "      <td>0.080</td>\n",
       "      <td>0.2050</td>\n",
       "      <td>0.0895</td>\n",
       "      <td>0.0395</td>\n",
       "      <td>0.055</td>\n",
       "      <td>7</td>\n",
       "      <td>0</td>\n",
       "      <td>1</td>\n",
       "      <td>0</td>\n",
       "    </tr>\n",
       "  </tbody>\n",
       "</table>\n",
       "</div>"
      ],
      "text/plain": [
       "  Sex  Length  Diameter  Height  Whole weight  Shucked weight  Viscera weight  \\\n",
       "0   M   0.455     0.365   0.095        0.5140          0.2245          0.1010   \n",
       "1   M   0.350     0.265   0.090        0.2255          0.0995          0.0485   \n",
       "2   F   0.530     0.420   0.135        0.6770          0.2565          0.1415   \n",
       "3   M   0.440     0.365   0.125        0.5160          0.2155          0.1140   \n",
       "4   I   0.330     0.255   0.080        0.2050          0.0895          0.0395   \n",
       "\n",
       "   Shell weight  Rings  F  I  M  \n",
       "0         0.150     15  0  0  1  \n",
       "1         0.070      7  0  0  1  \n",
       "2         0.210      9  1  0  0  \n",
       "3         0.155     10  0  0  1  \n",
       "4         0.055      7  0  1  0  "
      ]
     },
     "execution_count": 100,
     "metadata": {},
     "output_type": "execute_result"
    }
   ],
   "source": [
    "# Concatenate the data frames and confirm that the encoding seems correct\n",
    "abalone_df = pd.concat([abalone, sex_enc], axis=1)\n",
    "abalone_df.head() # everything looks good"
   ]
  },
  {
   "cell_type": "code",
   "execution_count": 101,
   "id": "9ae5a215",
   "metadata": {},
   "outputs": [],
   "source": [
    "# Drop the original sex variable from data frame\n",
    "abalone_df = abalone_df.drop('Sex', axis=1)"
   ]
  },
  {
   "cell_type": "code",
   "execution_count": 38,
   "id": "9e0d71d3",
   "metadata": {},
   "outputs": [
    {
     "data": {
      "image/png": "[encoded data removed]",
      "text/plain": [
       "<Figure size 1500x800 with 8 Axes>"
      ]
     },
     "metadata": {},
     "output_type": "display_data"
    }
   ],
   "source": [
    "# Check the distribution of each variable (other than sex)\n",
    "import seaborn as sns\n",
    "import matplotlib.pyplot as plt\n",
    "\n",
    "# Set up subplots\n",
    "fig, axes = plt.subplots(2,4)\n",
    "\n",
    "# Set up the box plots in each subplot\n",
    "sns.boxplot(x='Length', color='lightseagreen', data=abalone_df, ax=axes[0,0])\n",
    "sns.boxplot(x='Diameter', color='lightseagreen', data=abalone_df, ax=axes[0,1])\n",
    "sns.boxplot(x='Height', color='lightseagreen', data=abalone_df, ax=axes[0,2])\n",
    "sns.boxplot(x='Whole weight', color='lightseagreen', data=abalone_df, ax=axes[0,3])\n",
    "sns.boxplot(x='Shucked weight', color='lightseagreen', data=abalone_df, ax=axes[1,0])\n",
    "sns.boxplot(x='Viscera weight', color='lightseagreen', data=abalone_df, ax=axes[1,1])\n",
    "sns.boxplot(x='Shell weight', color='lightseagreen', data=abalone_df, ax=axes[1,2])\n",
    "sns.boxplot(x='Rings', color='lightseagreen', data=abalone_df, ax=axes[1,3])\n",
    "\n",
    "# Format the axes\n",
    "axes[0,0].set_title('Length', size=11, weight='bold')\n",
    "axes[0,0].set_xlabel('')\n",
    "\n",
    "axes[0,1].set_title('Diameter', size=11, weight='bold')\n",
    "axes[0,1].set_xlabel('')\n",
    "\n",
    "axes[0,2].set_title('Height', size=11, weight='bold')\n",
    "axes[0,2].set_xlabel('')\n",
    "\n",
    "axes[0,3].set_title('Whole Weight', size=11, weight='bold')\n",
    "axes[0,3].set_xlabel('')\n",
    "\n",
    "axes[1,0].set_title('Shucked Weight', size=11, weight='bold')\n",
    "axes[1,0].set_xlabel('')\n",
    "\n",
    "axes[1,1].set_title('Viscera Weight', size=11, weight='bold')\n",
    "axes[1,1].set_xlabel('')\n",
    "\n",
    "axes[1,2].set_title('Shell Weight', size=11, weight='bold')\n",
    "axes[1,2].set_xlabel('')\n",
    "\n",
    "axes[1,3].set_title('Rings', size=11, weight='bold')\n",
    "axes[1,3].set_xlabel('')\n",
    "\n",
    "sns.set_style('dark')\n",
    "\n",
    "# Make plots larger\n",
    "plt.rcParams.update({'figure.figsize':(15,8), 'figure.dpi':100})\n",
    "\n",
    "# Show plot\n",
    "plt.show()"
   ]
  },
  {
   "cell_type": "markdown",
   "id": "6ceb34b4",
   "metadata": {},
   "source": [
    "The variables in the bottom row all display a right-skewed distributions. Length and diameter are both left-skewed, while height and \"whole weight\" are both right-skewed. However, logistic regression does not assume linearity, nor does is requrie normality so the skewness is not too concerning. However, the plots show that every variable contains outliers. These outliers can bias our model and hinder model performance. Thus, I will handle the outliers in the code below."
   ]
  },
  {
   "cell_type": "code",
   "execution_count": 102,
   "id": "52587763",
   "metadata": {},
   "outputs": [],
   "source": [
    "# Itereate through the values in our refined data set\n",
    "for col, val in abalone_df.iteritems():\n",
    "    # Use percentile function to find the 25th and 75th percentile \n",
    "    # Assign the results\n",
    "    q25, q75 = np.percentile(abalone_df[col], [25,75])\n",
    "    # Compute the inner quartile range\n",
    "    IQR = q75 - q25\n",
    "    # Find the outliers\n",
    "    upper = q75 + (IQR*1.5)\n",
    "    lower = q25 - (IQR*1.5)\n",
    "    # Check to see which values are lower than 'lower' or greater than 'upper'\n",
    "    # If a data point is out of bounds, we will replace with null values\n",
    "    # Otherwise, we will keep it the same\n",
    "    abalone_df[col+'2'] = np.where((abalone_df[col] > upper) | (abalone_df[col] < lower), np.nan,\n",
    "                                    abalone_df[col])"
   ]
  },
  {
   "cell_type": "markdown",
   "id": "534497b1",
   "metadata": {},
   "source": [
    "Revised box plots with outliers removed"
   ]
  },
  {
   "cell_type": "code",
   "execution_count": 86,
   "id": "716b154a",
   "metadata": {},
   "outputs": [
    {
     "data": {
      "image/png": "[encoded data removed]",
      "text/plain": [
       "<Figure size 1500x800 with 8 Axes>"
      ]
     },
     "metadata": {},
     "output_type": "display_data"
    }
   ],
   "source": [
    "# Check the distribution of each variable (other than sex)\n",
    "import seaborn as sns\n",
    "import matplotlib.pyplot as plt\n",
    "\n",
    "# Set up subplots\n",
    "fig, axes = plt.subplots(2,4)\n",
    "\n",
    "# Set up the box plots in each subplot\n",
    "sns.boxplot(x='Length2', color='lightseagreen', data=abalone_df, ax=axes[0,0])\n",
    "sns.boxplot(x='Diameter2', color='lightseagreen', data=abalone_df, ax=axes[0,1])\n",
    "sns.boxplot(x='Height2', color='lightseagreen', data=abalone_df, ax=axes[0,2])\n",
    "sns.boxplot(x='Whole weight2', color='lightseagreen', data=abalone_df, ax=axes[0,3])\n",
    "sns.boxplot(x='Shucked weight2', color='lightseagreen', data=abalone_df, ax=axes[1,0])\n",
    "sns.boxplot(x='Viscera weight2', color='lightseagreen', data=abalone_df, ax=axes[1,1])\n",
    "sns.boxplot(x='Shell weight2', color='lightseagreen', data=abalone_df, ax=axes[1,2])\n",
    "sns.boxplot(x='Rings2', color='lightseagreen', data=abalone_df, ax=axes[1,3])\n",
    "\n",
    "# Format the axes\n",
    "axes[0,0].set_title('Length', size=11, weight='bold')\n",
    "axes[0,0].set_xlabel('')\n",
    "\n",
    "axes[0,1].set_title('Diameter', size=11, weight='bold')\n",
    "axes[0,1].set_xlabel('')\n",
    "\n",
    "axes[0,2].set_title('Height', size=11, weight='bold')\n",
    "axes[0,2].set_xlabel('')\n",
    "\n",
    "axes[0,3].set_title('Whole Weight', size=11, weight='bold')\n",
    "axes[0,3].set_xlabel('')\n",
    "\n",
    "axes[1,0].set_title('Shucked Weight', size=11, weight='bold')\n",
    "axes[1,0].set_xlabel('')\n",
    "\n",
    "axes[1,1].set_title('Viscera Weight', size=11, weight='bold')\n",
    "axes[1,1].set_xlabel('')\n",
    "\n",
    "axes[1,2].set_title('Shell Weight', size=11, weight='bold')\n",
    "axes[1,2].set_xlabel('')\n",
    "\n",
    "axes[1,3].set_title('Rings', size=11, weight='bold')\n",
    "axes[1,3].set_xlabel('')\n",
    "\n",
    "sns.set_style('dark')\n",
    "\n",
    "# Make plots larger\n",
    "plt.rcParams.update({'figure.figsize':(15,8), 'figure.dpi':100})\n",
    "\n",
    "# Show plot\n",
    "plt.show()"
   ]
  },
  {
   "cell_type": "code",
   "execution_count": 103,
   "id": "a6774f18",
   "metadata": {},
   "outputs": [
    {
     "name": "stdout",
     "output_type": "stream",
     "text": [
      "3781\n"
     ]
    }
   ],
   "source": [
    "# Form a complete data set for our analysis. \n",
    "# The outliers above were replaced with null values so that we could easily drop them here\n",
    "# Drop all rows that have any null values, so that we can have a complete data set\n",
    "abalone_new = abalone_df.dropna(axis = 0, how = 'any')\n",
    "print(len(abalone_new.index))"
   ]
  },
  {
   "cell_type": "code",
   "execution_count": 90,
   "id": "9f72bc8f",
   "metadata": {},
   "outputs": [
    {
     "data": {
      "text/plain": [
       "0.09480488388795787"
      ]
     },
     "execution_count": 90,
     "metadata": {},
     "output_type": "execute_result"
    }
   ],
   "source": [
    "# We lost about 9.5% of our data, due to outlier removal\n",
    "(4177-3781)/4177"
   ]
  },
  {
   "cell_type": "code",
   "execution_count": 109,
   "id": "ae2fde84",
   "metadata": {},
   "outputs": [],
   "source": [
    "import warnings\n",
    "warnings.filterwarnings('ignore')\n",
    "\n",
    "# Create age variable\n",
    "# According to the data information, the age is equal to the number of rings + 1.5\n",
    "abalone_new['Age'] = abalone_new['Rings'] + 1.5"
   ]
  },
  {
   "cell_type": "code",
   "execution_count": 106,
   "id": "256c2fc3",
   "metadata": {},
   "outputs": [
    {
     "data": {
      "text/html": [
       "<div>\n",
       "<style scoped>\n",
       "    .dataframe tbody tr th:only-of-type {\n",
       "        vertical-align: middle;\n",
       "    }\n",
       "\n",
       "    .dataframe tbody tr th {\n",
       "        vertical-align: top;\n",
       "    }\n",
       "\n",
       "    .dataframe thead th {\n",
       "        text-align: right;\n",
       "    }\n",
       "</style>\n",
       "<table border=\"1\" class=\"dataframe\">\n",
       "  <thead>\n",
       "    <tr style=\"text-align: right;\">\n",
       "      <th></th>\n",
       "      <th>Age</th>\n",
       "      <th>Length</th>\n",
       "      <th>Diameter</th>\n",
       "      <th>Height</th>\n",
       "      <th>Whole weight</th>\n",
       "      <th>Shucked weight</th>\n",
       "      <th>Viscera weight</th>\n",
       "      <th>Shell weight</th>\n",
       "      <th>M</th>\n",
       "      <th>F</th>\n",
       "      <th>I</th>\n",
       "    </tr>\n",
       "  </thead>\n",
       "  <tbody>\n",
       "    <tr>\n",
       "      <th>0</th>\n",
       "      <td>16.5</td>\n",
       "      <td>0.455</td>\n",
       "      <td>0.365</td>\n",
       "      <td>0.095</td>\n",
       "      <td>0.5140</td>\n",
       "      <td>0.2245</td>\n",
       "      <td>0.1010</td>\n",
       "      <td>0.150</td>\n",
       "      <td>1</td>\n",
       "      <td>0</td>\n",
       "      <td>0</td>\n",
       "    </tr>\n",
       "    <tr>\n",
       "      <th>1</th>\n",
       "      <td>8.5</td>\n",
       "      <td>0.350</td>\n",
       "      <td>0.265</td>\n",
       "      <td>0.090</td>\n",
       "      <td>0.2255</td>\n",
       "      <td>0.0995</td>\n",
       "      <td>0.0485</td>\n",
       "      <td>0.070</td>\n",
       "      <td>1</td>\n",
       "      <td>0</td>\n",
       "      <td>0</td>\n",
       "    </tr>\n",
       "    <tr>\n",
       "      <th>2</th>\n",
       "      <td>10.5</td>\n",
       "      <td>0.530</td>\n",
       "      <td>0.420</td>\n",
       "      <td>0.135</td>\n",
       "      <td>0.6770</td>\n",
       "      <td>0.2565</td>\n",
       "      <td>0.1415</td>\n",
       "      <td>0.210</td>\n",
       "      <td>0</td>\n",
       "      <td>1</td>\n",
       "      <td>0</td>\n",
       "    </tr>\n",
       "    <tr>\n",
       "      <th>3</th>\n",
       "      <td>11.5</td>\n",
       "      <td>0.440</td>\n",
       "      <td>0.365</td>\n",
       "      <td>0.125</td>\n",
       "      <td>0.5160</td>\n",
       "      <td>0.2155</td>\n",
       "      <td>0.1140</td>\n",
       "      <td>0.155</td>\n",
       "      <td>1</td>\n",
       "      <td>0</td>\n",
       "      <td>0</td>\n",
       "    </tr>\n",
       "    <tr>\n",
       "      <th>4</th>\n",
       "      <td>8.5</td>\n",
       "      <td>0.330</td>\n",
       "      <td>0.255</td>\n",
       "      <td>0.080</td>\n",
       "      <td>0.2050</td>\n",
       "      <td>0.0895</td>\n",
       "      <td>0.0395</td>\n",
       "      <td>0.055</td>\n",
       "      <td>0</td>\n",
       "      <td>0</td>\n",
       "      <td>1</td>\n",
       "    </tr>\n",
       "  </tbody>\n",
       "</table>\n",
       "</div>"
      ],
      "text/plain": [
       "    Age  Length  Diameter  Height  Whole weight  Shucked weight  \\\n",
       "0  16.5   0.455     0.365   0.095        0.5140          0.2245   \n",
       "1   8.5   0.350     0.265   0.090        0.2255          0.0995   \n",
       "2  10.5   0.530     0.420   0.135        0.6770          0.2565   \n",
       "3  11.5   0.440     0.365   0.125        0.5160          0.2155   \n",
       "4   8.5   0.330     0.255   0.080        0.2050          0.0895   \n",
       "\n",
       "   Viscera weight  Shell weight  M  F  I  \n",
       "0          0.1010         0.150  1  0  0  \n",
       "1          0.0485         0.070  1  0  0  \n",
       "2          0.1415         0.210  0  1  0  \n",
       "3          0.1140         0.155  1  0  0  \n",
       "4          0.0395         0.055  0  0  1  "
      ]
     },
     "execution_count": 106,
     "metadata": {},
     "output_type": "execute_result"
    }
   ],
   "source": [
    "# Set the final data frame\n",
    "abalone_final = abalone_new[['Age', 'Length', 'Diameter', 'Height', 'Whole weight', 'Shucked weight', 'Viscera weight',\n",
    "                 'Shell weight', 'M', 'F', 'I']]\n",
    "\n",
    "# View data frame\n",
    "abalone_final.head()"
   ]
  },
  {
   "cell_type": "markdown",
   "id": "5a703275",
   "metadata": {},
   "source": [
    "**3.\tCreate a decision tree model tuned to the best of your abilities. Explain how you tuned it.**"
   ]
  },
  {
   "cell_type": "markdown",
   "id": "22767e66",
   "metadata": {},
   "source": [
    "Prepare the data: Split into trainings vs. testing and standardize the data"
   ]
  },
  {
   "cell_type": "code",
   "execution_count": 110,
   "id": "3ed61d57",
   "metadata": {},
   "outputs": [],
   "source": [
    "# Import necessary modules\n",
    "from sklearn import tree\n",
    "from sklearn.metrics import confusion_matrix, classification_report, plot_confusion_matrix\n",
    "from sklearn.model_selection import train_test_split\n",
    "from sklearn.preprocessing import StandardScaler\n",
    "\n",
    "# Predictors\n",
    "X = abalone_final.drop('Age', axis=1)\n",
    "# Outcome\n",
    "y = abalone_final['Age']\n",
    "\n",
    "# Split into training and test set\n",
    "X_train, X_test, y_train, y_test = train_test_split(X, y, test_size = 0.3, random_state=33, stratify=y)\n",
    "\n",
    "#Standardize\n",
    "sc= StandardScaler()\n",
    "X_train=sc.fit_transform(X_train)\n",
    "X_test=sc.fit_transform(X_test)"
   ]
  },
  {
   "cell_type": "markdown",
   "id": "a8048ed0",
   "metadata": {},
   "source": [
    "Create a decision tree model"
   ]
  },
  {
   "cell_type": "markdown",
   "id": "e3bec8ca",
   "metadata": {},
   "source": [
    "**4.\tCreate a random forest model tuned to the best of your abilities. Explain how you tuned it.**"
   ]
  },
  {
   "cell_type": "code",
   "execution_count": null,
   "id": "d6e044f2",
   "metadata": {},
   "outputs": [],
   "source": []
  },
  {
   "cell_type": "markdown",
   "id": "48019cef",
   "metadata": {},
   "source": [
    "**5.\tCreate an xgboost model tuned to the best of your abilities. Explain how you tuned it.** "
   ]
  },
  {
   "cell_type": "code",
   "execution_count": null,
   "id": "900e685a",
   "metadata": {},
   "outputs": [],
   "source": []
  },
  {
   "cell_type": "markdown",
   "id": "dd0777d7",
   "metadata": {},
   "source": [
    "**6.\tWhich model performed best? What is your performance metric? Why?** "
   ]
  },
  {
   "cell_type": "markdown",
   "id": "d2440317",
   "metadata": {},
   "source": []
  }
 ],
 "metadata": {
  "kernelspec": {
   "display_name": "Python 3 (ipykernel)",
   "language": "python",
   "name": "python3"
  },
  "language_info": {
   "codemirror_mode": {
    "name": "ipython",
    "version": 3
   },
   "file_extension": ".py",
   "mimetype": "text/x-python",
   "name": "python",
   "nbconvert_exporter": "python",
   "pygments_lexer": "ipython3",
   "version": "3.9.7"
  }
 },
 "nbformat": 4,
 "nbformat_minor": 5
}
